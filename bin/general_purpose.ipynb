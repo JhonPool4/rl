{
 "cells": [
  {
   "cell_type": "code",
   "execution_count": 39,
   "id": "bfa79b91",
   "metadata": {},
   "outputs": [],
   "source": [
    "import torch\n",
    "import torch.nn as nn\n",
    "\n",
    "def mlp(sizes, activation, output_activation=nn.Identity()):\n",
    "    \"\"\"\n",
    "    @info: create a multilayer perpectron architecture\n",
    "    \"\"\"\n",
    "    layers=[]\n",
    "    for i in range(len(sizes)-1):\n",
    "        act = activation if (i+2)< len(sizes) else output_activation\n",
    "        layers += [nn.Linear(sizes[i], sizes[i+1]), act]\n",
    "    \n",
    "    #return layers\n",
    "    return nn.Sequential(*layers)\n",
    "\n",
    "\n"
   ]
  },
  {
   "cell_type": "code",
   "execution_count": 42,
   "id": "8f4a1441",
   "metadata": {},
   "outputs": [],
   "source": [
    "#a = [var for var in range(4)]\n",
    "#print(*a)\n",
    "\n",
    "model_1 = mlp(sizes=[4,*list((64,30)),2], activation=nn.Tanh())\n",
    "model_2 = mlp(sizes=[2,*list((64,30)),8], activation=nn.ReLU())"
   ]
  },
  {
   "cell_type": "code",
   "execution_count": 50,
   "id": "1a2dfc3d",
   "metadata": {},
   "outputs": [
    {
     "data": {
      "text/plain": [
       "[4, 5, 6]"
      ]
     },
     "execution_count": 50,
     "metadata": {},
     "output_type": "execute_result"
    }
   ],
   "source": [
    "a = [1,2,3,4,5,6]\n",
    "\n",
    "b = a[0:3]\n",
    "c = a[3:]\n",
    "c"
   ]
  },
  {
   "cell_type": "code",
   "execution_count": 16,
   "id": "fc990654",
   "metadata": {},
   "outputs": [],
   "source": [
    "import torch\n",
    "import torch.nn as nn\n",
    "import torch.nn.functional as f\n",
    "\n",
    "class BasicNeuralNet(nn.Module):\n",
    "    def __init__(self, n_inputs=1, n_outputs=1):\n",
    "        super().__init__()\n",
    "        self.n_neurons = 2;\n",
    "        self.l1 = nn.Linear(in_features=n_inputs, out_features=self.n_neurons)\n",
    "\n",
    "    def forward(self, obs):\n",
    "        x = f.relu(self.l1(obs))\n",
    "        return x\n",
    "    \n"
   ]
  },
  {
   "cell_type": "code",
   "execution_count": 13,
   "id": "ce4bae00",
   "metadata": {},
   "outputs": [],
   "source": [
    "computer = BasicNeuralNet(n_inputs=1, n_outputs=1)\n",
    "player = BasicNeuralNet(n_inputs=1, n_outputs=1)"
   ]
  },
  {
   "cell_type": "code",
   "execution_count": 14,
   "id": "fd79f08a",
   "metadata": {},
   "outputs": [
    {
     "name": "stdout",
     "output_type": "stream",
     "text": [
      "name:l1.weight: , tensor([[0.9669],\n",
      "        [0.0799]])\n",
      "name:l1.bias: , tensor([-0.9473, -0.0190])\n"
     ]
    }
   ],
   "source": [
    "for name, param in computer.named_parameters():\n",
    "    print(f\"name:{name}: , {param.data}\")"
   ]
  },
  {
   "cell_type": "code",
   "execution_count": 15,
   "id": "203185a2",
   "metadata": {},
   "outputs": [
    {
     "name": "stdout",
     "output_type": "stream",
     "text": [
      "name:l1.weight: , tensor([[-0.3387],\n",
      "        [ 0.9855]])\n",
      "name:l1.bias: , tensor([-0.2889,  0.7325])\n"
     ]
    }
   ],
   "source": [
    "for name, param in player.named_parameters():\n",
    "    print(f\"name:{name}: , {param.data}\")"
   ]
  },
  {
   "cell_type": "code",
   "execution_count": 16,
   "id": "e89e1f3a",
   "metadata": {},
   "outputs": [],
   "source": [
    "# copy parameters\n",
    "for computer_param, player_param in zip(computer.parameters(), player.parameters()):\n",
    "    computer_param.data.copy_(player_param.data)\n"
   ]
  },
  {
   "cell_type": "code",
   "execution_count": 17,
   "id": "e9270a26",
   "metadata": {},
   "outputs": [
    {
     "name": "stdout",
     "output_type": "stream",
     "text": [
      "name:l1.weight: , tensor([[-0.3387],\n",
      "        [ 0.9855]])\n",
      "name:l1.bias: , tensor([-0.2889,  0.7325])\n"
     ]
    }
   ],
   "source": [
    "for name, param in computer.named_parameters():\n",
    "    print(f\"name:{name}: , {param.data}\")"
   ]
  },
  {
   "cell_type": "code",
   "execution_count": 2,
   "id": "a9fa4980",
   "metadata": {},
   "outputs": [],
   "source": [
    "import numpy as np\n",
    "_MAX_SHOULDER_POS = np.deg2rad(180)\n",
    "_MIN_SHOULDER_POS = np.deg2rad(-90)\n",
    "\n",
    "_MAX_ELBOW_POS = np.deg2rad(130)\n",
    "_MIN_ELBOW_POS = np.deg2rad(0)\n",
    "\n",
    "_MAX_WRIST_POS = {'x':2, 'y':2.5}\n",
    "_MIN_WRIST_POS = {'x':0, 'y':0.5}\n",
    "\n",
    "_MAX_FIBER_ACTIVATION = 1\n",
    "_MIN_FIBER_ACTIVATION = 0\n",
    "\n",
    "\n",
    "# observation directory\n",
    "max_obs = {}\n",
    "# joint \n",
    "max_obs['shoulder_pos']=_MAX_SHOULDER_POS\n",
    "max_obs['elbow_pos']=_MAX_ELBOW_POS\n",
    "# muscle\n",
    "max_obs['fiber_activation']=_MAX_FIBER_ACTIVATION\n",
    "# marker\n",
    "max_obs['wrist_marker_x']=_MAX_WRIST_POS['x']\n",
    "max_obs['wrist_marker_y']=_MAX_WRIST_POS['y']   "
   ]
  },
  {
   "cell_type": "code",
   "execution_count": 3,
   "id": "bfc303af",
   "metadata": {},
   "outputs": [],
   "source": [
    "high = [var for var in max_obs.values()]"
   ]
  },
  {
   "cell_type": "code",
   "execution_count": 10,
   "id": "98154b58",
   "metadata": {},
   "outputs": [],
   "source": [
    "import numpy as np\n",
    "_MAX_LIST = {\"r_shoulder\":{'pos':np.deg2rad(180), 'vel': 1}, \\\n",
    "             \"r_elbow\":{'pos':np.deg2rad(130), 'vel': 1}, \\\n",
    "             \"wrist\":{'x':1, 'y':2}, \\\n",
    "             \"fiber\": {\"activation\":1}}\n",
    "\n",
    "_MIN_LIST = {\"r_shoulder\":{'pos':np.deg2rad(-90), 'vel': -1}, \\\n",
    "             \"r_elbow\":{'pos':np.deg2rad(0), 'vel': -1}, \\\n",
    "             \"wrist\":{'x':-1, 'y':0.5}, \\\n",
    "             \"fiber\": {\"activation\":0}}\n"
   ]
  },
  {
   "cell_type": "code",
   "execution_count": 14,
   "id": "ca3c97c2",
   "metadata": {},
   "outputs": [
    {
     "data": {
      "text/plain": [
       "{'r_shoulder': 1, 'r_elbow': 2}"
      ]
     },
     "execution_count": 14,
     "metadata": {},
     "output_type": "execute_result"
    }
   ],
   "source": [
    "init_pos = [1,2]\n",
    "_JOINT_LIST = [\"r_shoulder\", \"r_elbow\"]\n",
    "\n",
    "{joint_name:init_pos[idx] for idx, joint_name in enumerate(_JOINT_LIST)}"
   ]
  },
  {
   "cell_type": "code",
   "execution_count": 52,
   "id": "8e3b93ed",
   "metadata": {},
   "outputs": [
    {
     "name": "stdout",
     "output_type": "stream",
     "text": [
      "wrong\n"
     ]
    }
   ],
   "source": [
    "import numpy as np\n",
    "obs = [4,3,2,3]\n",
    "\n",
    "if 0<=np.array(obs).any()<=1:\n",
    "    print(f\"wrong\")"
   ]
  },
  {
   "cell_type": "code",
   "execution_count": 65,
   "id": "fd0b4d4b",
   "metadata": {},
   "outputs": [
    {
     "data": {
      "text/plain": [
       "False"
      ]
     },
     "execution_count": 65,
     "metadata": {},
     "output_type": "execute_result"
    }
   ],
   "source": [
    "import numpy as np\n",
    "obs = [1,1,1]\n",
    "not np.logical_and(np.all(np.array(obs)<=1), np.all(np.array(obs)>=0))\n"
   ]
  },
  {
   "cell_type": "code",
   "execution_count": 57,
   "id": "7bfea04c",
   "metadata": {},
   "outputs": [
    {
     "data": {
      "text/plain": [
       "False"
      ]
     },
     "execution_count": 57,
     "metadata": {},
     "output_type": "execute_result"
    }
   ],
   "source": [
    "np.all(np.array(obs)<=1)"
   ]
  },
  {
   "cell_type": "code",
   "execution_count": 53,
   "metadata": {},
   "outputs": [
    {
     "data": {
      "text/plain": [
       "0.14083025205384142"
      ]
     },
     "execution_count": 53,
     "metadata": {},
     "output_type": "execute_result"
    }
   ],
   "source": [
    "import numpy as np\n",
    "\n",
    "max_error=1\n",
    "metric = 0.99\n",
    "mean = 0\n",
    "std = max_error/2\n",
    "np.exp(-(metric-mean)**2/(2*std**2))"
   ]
  },
  {
   "cell_type": "code",
   "execution_count": 2,
   "id": "114df5ec",
   "metadata": {},
   "outputs": [],
   "source": [
    "import numpy as np\n",
    "_MAX_LIST = {\"pos_des\":{'x':0.5, 'y':0.8}, \\\n",
    "            \"r_shoulder\":{'pos':np.deg2rad(180), 'vel': 1}, \\\n",
    "            \"r_elbow\":{'pos':np.deg2rad(150), 'vel': 1}, \\\n",
    "            \"r_radius_styloid\":{'x':0.5, 'y':0.8} , \\\n",
    "            \"TRIlong\": {\"act\":1},\\\n",
    "            \"TRIlat\": {\"act\":1},\\\n",
    "            \"TRImed\": {\"act\":1},\\\n",
    "            \"BIClong\": {\"act\":1},\\\n",
    "            \"BICshort\": {\"act\":1},\\\n",
    "            \"BRA\": {\"act\":1}}\n"
   ]
  },
  {
   "cell_type": "code",
   "execution_count": 11,
   "id": "6703110f",
   "metadata": {},
   "outputs": [
    {
     "name": "stdout",
     "output_type": "stream",
     "text": [
      "pos_des\n",
      "\tx: 0.5\n",
      "\ty: 0.8\n",
      "r_shoulder\n",
      "\tpos: 3.141592653589793\n",
      "\tvel: 1\n",
      "r_elbow\n",
      "\tpos: 2.6179938779914944\n",
      "\tvel: 1\n",
      "r_radius_styloid\n",
      "\tx: 0.5\n",
      "\ty: 0.8\n",
      "TRIlong\n",
      "\tact: 1\n",
      "TRIlat\n",
      "\tact: 1\n",
      "TRImed\n",
      "\tact: 1\n",
      "BIClong\n",
      "\tact: 1\n",
      "BICshort\n",
      "\tact: 1\n",
      "BRA\n",
      "\tact: 1\n"
     ]
    }
   ],
   "source": [
    "var = [dict_1 for dict_1 in _MAX_LIST.items()]\n",
    "\n",
    "for obj_name in _MAX_LIST.keys():\n",
    "    print(f\"{obj_name}\")\n",
    "    for name, var in _MAX_LIST[obj_name].items():\n",
    "        print(f\"\\t{name}: {var}\")"
   ]
  },
  {
   "cell_type": "code",
   "execution_count": 15,
   "id": "abe5346a",
   "metadata": {},
   "outputs": [],
   "source": [
    "obs = 0.7*np.ones((5,))\n",
    "if not np.logical_and(np.all(np.array(obs)<=1), np.all(np.array(obs)>=0)):\n",
    "    print(f\"out of range\")"
   ]
  },
  {
   "cell_type": "code",
   "execution_count": 29,
   "id": "848bc063",
   "metadata": {},
   "outputs": [
    {
     "data": {
      "image/png": "[encoded data removed]",
      "text/plain": [
       "<Figure size 576x432 with 1 Axes>"
      ]
     },
     "metadata": {
      "needs_background": "light"
     },
     "output_type": "display_data"
    }
   ],
   "source": [
    "import matplotlib.pyplot as plt\n",
    "import matplotlib.animation as anim\n",
    "from matplotlib.figure import Figure\n",
    "import numpy as np\n",
    "\n",
    "# to run GUI event loop\n",
    "plt.ion()\n",
    "\n",
    "fig, ax = plt.subplots(figsize=(8, 6))\n",
    "line1, = ax.plot([], [], \"r\") \n",
    "\n",
    "\n",
    "sim_timesteps = 0\n",
    "max_timesptes = 100\n",
    "step_size = 1\n",
    "\n",
    "t = []\n",
    "a = []\n",
    "while sim_timesteps<max_timesptes:\n",
    "    # update time\n",
    "    sim_timesteps += step_size\n",
    "    # data\n",
    "    x = np.sin(2*np.pi/5*sim_timesteps)\n",
    "    \n",
    "    t.append(sim_timesteps)\n",
    "    a.append(x)\n",
    "    \n",
    "    line1.set_xdata(sim_timesteps)\n",
    "    line1.set_ydata(x)\n",
    "    fig.canvas.draw()\n",
    "    fig.canvas.flush_events()\n",
    "    time.sleep(0.1)\n",
    "    #plt.show()\n",
    "    #plot._update_figure(time_data=sim_timesteps, act_data=x)\n",
    "\n"
   ]
  },
  {
   "cell_type": "code",
   "execution_count": 31,
   "id": "1d312b2b",
   "metadata": {},
   "outputs": [
    {
     "data": {
      "image/png": "[encoded data removed]",
      "text/plain": [
       "<Figure size 720x576 with 1 Axes>"
      ]
     },
     "metadata": {
      "needs_background": "light"
     },
     "output_type": "display_data"
    }
   ],
   "source": [
    "# importing libraries\n",
    "import numpy as np\n",
    "import time\n",
    "import matplotlib.pyplot as plt\n",
    "\n",
    "# creating initial data values\n",
    "# of x and y\n",
    "x = np.linspace(0, 10, 100)\n",
    "y = np.sin(x)\n",
    "\n",
    "# to run GUI event loop\n",
    "plt.ion()\n",
    "\n",
    "# here we are creating sub plots\n",
    "figure, ax = plt.subplots(figsize=(10, 8))\n",
    "line1, = ax.plot(x, y)\n",
    "\n",
    "# setting title\n",
    "plt.title(\"Geeks For Geeks\", fontsize=20)\n",
    "\n",
    "# setting x-axis label and y-axis label\n",
    "plt.xlabel(\"X-axis\")\n",
    "plt.ylabel(\"Y-axis\")\n",
    "\n",
    "# Loop\n",
    "for _ in range(50):\n",
    "\t# creating new Y values\n",
    "\tnew_y = np.sin(x-0.5*_)\n",
    "\n",
    "\t# updating data values\n",
    "\tline1.set_xdata(x)\n",
    "\tline1.set_ydata(new_y)\n",
    "\n",
    "\t# drawing updated values\n",
    "\tfigure.canvas.draw()\n",
    "\n",
    "\t# This will run the GUI event\n",
    "\t# loop until all UI events\n",
    "\t# currently waiting have been processed\n",
    "\tfigure.canvas.flush_events()\n",
    "\n",
    "\ttime.sleep(0.1)\n"
   ]
  },
  {
   "cell_type": "code",
   "execution_count": 17,
   "id": "191c9439",
   "metadata": {},
   "outputs": [
    {
     "data": {
      "image/png": "[encoded data removed]",
      "text/plain": [
       "<Figure size 432x288 with 1 Axes>"
      ]
     },
     "metadata": {
      "needs_background": "light"
     },
     "output_type": "display_data"
    }
   ],
   "source": [
    "#import matplotlib.pyplot as plt\n",
    "import matplotlib.animation as anim\n",
    "from matplotlib.figure import Figure\n",
    "import matplotlib.pyplot as plt\n",
    "import numpy as np\n",
    "\n",
    "class Plotter():\n",
    "    def __init__(self, width=5, height=4, dpi=100, interval=10):\n",
    "\n",
    "        #self.figure = Figure(figsize=(width, height), dpi=dpi, tight_layout=True)\n",
    "        \n",
    "        min_y = +1\n",
    "        max_y = -1\n",
    "        min_x = 0\n",
    "        max_x = 4\n",
    "\n",
    "        self.fig= plt.subplots(figsize=(8, 6))\n",
    "\n",
    "        self.ax1 = plt.axes()#plt.plot()#self.fig.add_subplot(2,1,1)\n",
    "        self.ax1.set_xlabel('Time (s)')\n",
    "        self.ax1.set_ylabel('Position error (mm)')\n",
    "        self.ax1.set_xlim((min_x,max_x))\n",
    "        self.ax1.set_ylim((min_y,max_y))    \n",
    "        self.line1, = self.ax1.plot([], [], 'ro')  \n",
    "\n",
    "        # vector of data\n",
    "        self.time_data = []\n",
    "        self.act_data = []        \n",
    "\n",
    "        self.ani = anim.FuncAnimation(self.fig, self._update_figure, interval=interval, blit=True)\n",
    "\n",
    "\n",
    "      \n",
    "\n",
    "    def _update_figure(self, time_data,act_data):\n",
    "        self.time_data.append(time_data)\n",
    "        self.act_data.append(act_data)\n",
    "        \n",
    "        self.line1.set_data(self.time_data, self.act_data)\n",
    "        return self.line1\n",
    "\n",
    "# main\n",
    "\n",
    "plot = Plotter() # default paremeters\n",
    "\n",
    "sim_timesteps = 0\n",
    "max_timesptes = 400\n",
    "step_size = 1e-2\n",
    "while sim_timesteps<max_timesptes:\n",
    "    # update time\n",
    "    sim_timesteps += step_size\n",
    "    # data\n",
    "    x = np.sin(2*np.pi/5*sim_timesteps)\n",
    "\n",
    "    plot._update_figure(time_data=sim_timesteps, act_data=x)\n",
    "\n",
    "\n"
   ]
  },
  {
   "cell_type": "code",
   "execution_count": 18,
   "id": "b5587966",
   "metadata": {},
   "outputs": [
    {
     "ename": "KeyboardInterrupt",
     "evalue": "",
     "output_type": "error",
     "traceback": [
      "\u001b[1;31m---------------------------------------------------------------------------\u001b[0m",
      "\u001b[1;31mKeyboardInterrupt\u001b[0m                         Traceback (most recent call last)",
      "\u001b[1;32m~\\AppData\\Local\\Temp\\ipykernel_22136\\3724164309.py\u001b[0m in \u001b[0;36m<cell line: 25>\u001b[1;34m()\u001b[0m\n\u001b[0;32m     23\u001b[0m \u001b[1;33m\u001b[0m\u001b[0m\n\u001b[0;32m     24\u001b[0m \u001b[1;32mwhile\u001b[0m \u001b[1;32mTrue\u001b[0m\u001b[1;33m:\u001b[0m\u001b[1;33m\u001b[0m\u001b[1;33m\u001b[0m\u001b[0m\n\u001b[1;32m---> 25\u001b[1;33m     \u001b[0mget_temperature_bme680\u001b[0m\u001b[1;33m(\u001b[0m\u001b[1;33m)\u001b[0m \u001b[1;31m# my fonction to append my arrays\u001b[0m\u001b[1;33m\u001b[0m\u001b[1;33m\u001b[0m\u001b[0m\n\u001b[0m\u001b[0;32m     26\u001b[0m     \u001b[0mline1\u001b[0m\u001b[1;33m.\u001b[0m\u001b[0mset_xdata\u001b[0m\u001b[1;33m(\u001b[0m\u001b[0mtemps\u001b[0m\u001b[1;33m)\u001b[0m\u001b[1;33m\u001b[0m\u001b[1;33m\u001b[0m\u001b[0m\n\u001b[0;32m     27\u001b[0m     \u001b[0mline1\u001b[0m\u001b[1;33m.\u001b[0m\u001b[0mset_ydata\u001b[0m\u001b[1;33m(\u001b[0m\u001b[0mraw_temp_bme\u001b[0m\u001b[1;33m)\u001b[0m\u001b[1;33m\u001b[0m\u001b[1;33m\u001b[0m\u001b[0m\n",
      "\u001b[1;32m~\\AppData\\Local\\Temp\\ipykernel_22136\\3724164309.py\u001b[0m in \u001b[0;36mget_temperature_bme680\u001b[1;34m()\u001b[0m\n\u001b[0;32m     19\u001b[0m         \u001b[0mtemps\u001b[0m\u001b[1;33m[\u001b[0m\u001b[1;33m:\u001b[0m\u001b[1;33m]\u001b[0m \u001b[1;33m=\u001b[0m \u001b[0mtemps\u001b[0m\u001b[1;33m[\u001b[0m\u001b[1;36m1\u001b[0m\u001b[1;33m:\u001b[0m\u001b[1;33m]\u001b[0m\u001b[1;33m\u001b[0m\u001b[1;33m\u001b[0m\u001b[0m\n\u001b[0;32m     20\u001b[0m         \u001b[0mraw_temp_bme\u001b[0m\u001b[1;33m[\u001b[0m\u001b[1;33m:\u001b[0m\u001b[1;33m]\u001b[0m \u001b[1;33m=\u001b[0m \u001b[0mraw_temp_bme\u001b[0m\u001b[1;33m[\u001b[0m\u001b[1;36m1\u001b[0m\u001b[1;33m:\u001b[0m\u001b[1;33m]\u001b[0m\u001b[1;33m\u001b[0m\u001b[1;33m\u001b[0m\u001b[0m\n\u001b[1;32m---> 21\u001b[1;33m     \u001b[0mtime\u001b[0m\u001b[1;33m.\u001b[0m\u001b[0msleep\u001b[0m\u001b[1;33m(\u001b[0m\u001b[0mx\u001b[0m\u001b[1;33m)\u001b[0m\u001b[1;33m\u001b[0m\u001b[1;33m\u001b[0m\u001b[0m\n\u001b[0m\u001b[0;32m     22\u001b[0m \u001b[1;33m\u001b[0m\u001b[0m\n\u001b[0;32m     23\u001b[0m \u001b[1;33m\u001b[0m\u001b[0m\n",
      "\u001b[1;31mKeyboardInterrupt\u001b[0m: "
     ]
    },
    {
     "data": {
      "image/png": "[encoded data removed]",
      "text/plain": [
       "<Figure size 576x432 with 1 Axes>"
      ]
     },
     "metadata": {
      "needs_background": "light"
     },
     "output_type": "display_data"
    }
   ],
   "source": [
    "import matplotlib.pyplot as plt\n",
    "import random\n",
    "import time\n",
    "\n",
    "# My arrays are empty at the beginning\n",
    "raw_temp_bme = [30]\n",
    "temps = [0]\n",
    "\n",
    "plt.ion()\n",
    "fig, ax = plt.subplots(figsize=(8, 6))\n",
    "line1, = ax.plot(temps, raw_temp_bme, \"r\") \n",
    "\n",
    "#simulating your sensor data\n",
    "def get_temperature_bme680():\n",
    "    x =  random.random()\n",
    "    temps.append(temps[-1] + x)  \n",
    "    raw_temp_bme.append(raw_temp_bme[-1] + 2 * random.random() - 1)\n",
    "    if len(temps) > 50:\n",
    "        temps[:] = temps[1:]\n",
    "        raw_temp_bme[:] = raw_temp_bme[1:] \n",
    "    time.sleep(x)\n",
    "     \n",
    "\n",
    "while True:\n",
    "    get_temperature_bme680() # my fonction to append my arrays\n",
    "    line1.set_xdata(temps)\n",
    "    line1.set_ydata(raw_temp_bme)\n",
    "    ax.set_xlim(min(temps), max(temps))\n",
    "    ax.set_ylim(min(raw_temp_bme), max(raw_temp_bme))\n",
    "    fig.canvas.draw()\n",
    "    fig.canvas.flush_events()\n",
    "    time.sleep(0.0001)\n",
    "\n",
    "plt.show()"
   ]
  },
  {
   "cell_type": "code",
   "execution_count": 33,
   "id": "ce314f5c",
   "metadata": {},
   "outputs": [
    {
     "data": {
      "image/png": "[encoded data removed]",
      "text/plain": [
       "<Figure size 576x432 with 1 Axes>"
      ]
     },
     "metadata": {
      "needs_background": "light"
     },
     "output_type": "display_data"
    }
   ],
   "source": [
    "class Plotter():\n",
    "    def __init__(self, width=5, height=4, dpi=100, interval=10, max_simtime=4):\n",
    "        min_y = -0.25\n",
    "        max_y = 1.25\n",
    "        min_x = 0\n",
    "        max_x = max_simtime\n",
    "        plt.ion()        \n",
    "\n",
    "        self.fig, self.ax1= plt.subplots(figsize=(8, 6))\n",
    "\n",
    "        self.ax1.set_xlabel('Time (s)')\n",
    "        self.ax1.set_ylabel('Activation')\n",
    "        self.ax1.set_xlim((min_x,max_x))\n",
    "        self.ax1.set_ylim((min_y,max_y))    \n",
    "        self.line1, = self.ax1.plot([], [], 'ro')     \n",
    "\n",
    "        self.time_buf = []     \n",
    "        self.act_buf = []\n",
    "\n",
    "        \n",
    "    def update_figure(self):\n",
    "        self.line1.set_xdata(self.time_buf)\n",
    "        self.line1.set_ydata(self.act_buf)\n",
    "        self.fig.canvas.draw()\n",
    "        self.fig.canvas.flush_events()\n",
    "\n",
    "    def add_data (self, time, act):\n",
    "        self.time_buf.append(time)\n",
    "        self.act_buf.append(act)        \n",
    "\n",
    "# main\n",
    "max_simtime = 10\n",
    "sim_timesteps = 0\n",
    "step_size = 1e-2\n",
    "max_timesteps = int(max_simtime/step_size)\n",
    "\n",
    "my_plot = Plotter(max_simtime=max_simtime)\n",
    "\n",
    "#plt.ion()\n",
    "my_plot.add_data(0, 0)\n",
    "\n",
    "for sim_timesteps in range(0, max_timesteps):\n",
    "    # data\n",
    "    act = np.sin(2*np.pi/4*sim_timesteps*step_size)\n",
    "    \n",
    "    if sim_timesteps%10==0:\n",
    "        my_plot.add_data(time=sim_timesteps*step_size, act=act)\n",
    "        my_plot.update_figure()\n",
    "        #print(f\"time: {sim_timesteps}, act: {act}\")\n",
    "    \n",
    "        "
   ]
  },
  {
   "cell_type": "code",
   "execution_count": 2,
   "id": "ddd7c5a4",
   "metadata": {},
   "outputs": [],
   "source": [
    "import numpy as np\n",
    "_MAX_LIST = {\"pos_des\":{'x':0.5, 'y':0.8}, \\\n",
    "        \"r_shoulder\":{'pos':np.deg2rad(180), 'vel': np.deg2rad(180)}, \\\n",
    "        \"r_elbow\":{'pos':np.deg2rad(150), 'vel': np.deg2rad(180)}, \\\n",
    "        \"r_radius_styloid\":{'x':0.5, 'y':0.8} , \\\n",
    "        \"TRIlong\": {\"act\":1},\\\n",
    "        \"TRIlat\": {\"act\":1},\\\n",
    "        \"TRImed\": {\"act\":1},\\\n",
    "        \"BIClong\": {\"act\":1},\\\n",
    "        \"BICshort\": {\"act\":1},\\\n",
    "        \"BRA\": {\"act\":1}}"
   ]
  },
  {
   "cell_type": "code",
   "execution_count": 5,
   "id": "e07d1ad5",
   "metadata": {},
   "outputs": [],
   "source": [
    "l_names = [key+'_'+name for key, val in _MAX_LIST.items() for name in val]"
   ]
  },
  {
   "cell_type": "code",
   "execution_count": 9,
   "id": "5c0a5de6",
   "metadata": {},
   "outputs": [],
   "source": [
    "a = np.array([1,2,3,4,5])"
   ]
  },
  {
   "cell_type": "code",
   "execution_count": 13,
   "id": "cde02a05",
   "metadata": {},
   "outputs": [],
   "source": [
    "a[0:3] = np.mean(a[0:3])\n",
    "a[3:6] = np.mean(a[3:6])"
   ]
  },
  {
   "cell_type": "code",
   "execution_count": 1,
   "id": "6822e79b",
   "metadata": {},
   "outputs": [],
   "source": [
    "import numpy as np \n",
    "\n",
    "_JOINT_MAX = {\"r_shoulder\":{'pos':np.deg2rad(180), 'vel': np.deg2rad(180)}, \\\n",
    "              \"r_elbow\":{'pos':np.deg2rad(150), 'vel': np.deg2rad(180)}}\n"
   ]
  },
  {
   "cell_type": "code",
   "execution_count": 14,
   "id": "104483ad",
   "metadata": {},
   "outputs": [],
   "source": [
    "\n",
    "names = [key+'_'+name for key, val in _JOINT_MAX.items() for name in val.keys()]\n",
    "\n",
    " "
   ]
  },
  {
   "cell_type": "code",
   "execution_count": 15,
   "id": "5da5dfaa",
   "metadata": {},
   "outputs": [
    {
     "data": {
      "text/plain": [
       "['r_shoulder_pos', 'r_shoulder_vel', 'r_elbow_pos', 'r_elbow_vel']"
      ]
     },
     "execution_count": 15,
     "metadata": {},
     "output_type": "execute_result"
    }
   ],
   "source": [
    "names"
   ]
  },
  {
   "cell_type": "code",
   "execution_count": null,
   "id": "78caf937",
   "metadata": {},
   "outputs": [],
   "source": []
  }
 ],
 "metadata": {
  "interpreter": {
   "hash": "f15ecfb5afd913bd9ab8ae11a45020018ac154e4b9df4780109c2b86b6868530"
  },
  "kernelspec": {
   "display_name": "Python 3 (ipykernel)",
   "language": "python",
   "name": "python3"
  },
  "language_info": {
   "codemirror_mode": {
    "name": "ipython",
    "version": 3
   },
   "file_extension": ".py",
   "mimetype": "text/x-python",
   "name": "python",
   "nbconvert_exporter": "python",
   "pygments_lexer": "ipython3",
   "version": "3.8.13"
  }
 },
 "nbformat": 4,
 "nbformat_minor": 5
}
